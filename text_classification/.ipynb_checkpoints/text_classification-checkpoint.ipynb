{
 "cells": [
  {
   "cell_type": "code",
   "execution_count": null,
   "metadata": {},
   "outputs": [],
   "source": [
    "import os\n",
    "import pandas as pd\n",
    "import numpy as np\n",
    "from tqdm import tqdm\n",
    "import joblib\n",
    "\n",
    "import kagglehub\n",
    "from sklearn.feature_extraction.text import TfidfVectorizer\n",
    "from sklearn.model_selection import train_test_split\n",
    "from keras.preprocessing.text import Tokenizer\n",
    "from keras_preprocessing.sequence import pad_sequences\n",
    "from sentence_transformers import SentenceTransformer\n",
    "\n",
    "import torch\n",
    "import torch.nn as nn\n",
    "import torch.optim as optim\n",
    "\n",
    "from torch.utils.data import TensorDataset, DataLoader, Dataset, random_split\n",
    "\n",
    "from keras.models import Sequential\n",
    "from keras.layers import Dense\n",
    "from keras.optimizers import Adam\n",
    "from keras.callbacks import EarlyStopping\n",
    "from keras.utils import to_categorical\n",
    "from keras.layers import Embedding, GRU, LSTM, SimpleRNN, Dense, Dropout\n",
    "\n",
    "# path = kagglehub.dataset_download(\"datatattle/covid-19-nlp-text-classification\")\n",
    "# os.rename(path, './datasets')"
   ]
  },
  {
   "cell_type": "code",
   "execution_count": null,
   "metadata": {},
   "outputs": [],
   "source": [
    "df = pd.read_csv('./datasets/Corona_NLP_test.csv')\n",
    "df.shape"
   ]
  },
  {
   "cell_type": "code",
   "execution_count": null,
   "metadata": {},
   "outputs": [],
   "source": [
    "df.head()"
   ]
  },
  {
   "cell_type": "code",
   "execution_count": null,
   "metadata": {},
   "outputs": [],
   "source": [
    "sent_scores = {\n",
    "    'Extremely Negative': -2,\n",
    "    'Negative': -1,\n",
    "    'Neutral': 0,\n",
    "    'Positive': 1,\n",
    "    'Extremely Positive': 2\n",
    "}\n",
    "\n",
    "df['sentiment_score'] = df['Sentiment'].apply(lambda x: sent_scores[x])\n",
    "dumm = pd.get_dummies(df['Sentiment'])\n",
    "df = df.join(dumm)\n",
    "\n",
    "df = df[['OriginalTweet', 'sentiment_score', 'Extremely Negative', 'Negative', 'Neutral', 'Positive', 'Extremely Positive']]\n",
    "df.columns = ['text', 'sentiment_score', 'extremely_negative', 'negative', 'neutral', 'positive', 'extremely_positive']\n",
    "df.head()"
   ]
  },
  {
   "cell_type": "code",
   "execution_count": null,
   "metadata": {},
   "outputs": [],
   "source": [
    "y_num = df['sentiment_score'].to_numpy()\n",
    "y_cat = df.drop(['text', 'sentiment_score'], axis=1).to_numpy()"
   ]
  },
  {
   "cell_type": "code",
   "execution_count": null,
   "metadata": {},
   "outputs": [],
   "source": [
    "# tfidf = TfidfVectorizer(stop_words='english')\n",
    "\n",
    "# X_tfidf = tfidf.fit_transform(df['text'])\n",
    "# X_tfidf"
   ]
  },
  {
   "cell_type": "code",
   "execution_count": null,
   "metadata": {},
   "outputs": [],
   "source": [
    "tokenizer = Tokenizer(num_words = 5000)\n",
    "tokenizer.fit_on_texts(df['text'].values)\n",
    "tokenized = tokenizer.texts_to_sequences(df['text'].values)\n",
    "X_tokenized = pad_sequences(tokenized, maxlen = 128)\n",
    "X_tokenized"
   ]
  },
  {
   "cell_type": "code",
   "execution_count": null,
   "metadata": {},
   "outputs": [],
   "source": [
    "embedding = SentenceTransformer('labse')"
   ]
  },
  {
   "cell_type": "code",
   "execution_count": null,
   "metadata": {},
   "outputs": [],
   "source": [
    "def batched(iterable, batch_size):\n",
    "    batch = []\n",
    "    for item in iterable:\n",
    "        batch.append(item)\n",
    "        if len(batch) == batch_size:\n",
    "            yield batch\n",
    "            batch = []\n",
    "    if batch:\n",
    "        yield batch"
   ]
  },
  {
   "cell_type": "code",
   "execution_count": null,
   "metadata": {},
   "outputs": [],
   "source": [
    "# embeddings = []\n",
    "\n",
    "# for batch in tqdm(batched(df['text'].values, 50), total = len(df) / 50):\n",
    "#     embeddings.extend(embedding.encode(batch))\n",
    "    \n",
    "# joblib.dump(embeddings, './embeddings.joblib')"
   ]
  },
  {
   "cell_type": "markdown",
   "metadata": {},
   "source": [
    "# keras"
   ]
  },
  {
   "cell_type": "code",
   "execution_count": null,
   "metadata": {},
   "outputs": [],
   "source": [
    "# X_train, X_test, y_train, y_test = train_test_split(X_tokenized, y_cat)\n",
    "\n",
    "# model = Sequential()\n",
    "\n",
    "# model.add(Embedding(input_dim = 5000, output_dim = 64, input_length = 128))\n",
    "# model.add(LSTM(64, return_sequences=True))\n",
    "# model.add(Dropout(.2))\n",
    "# model.add(LSTM(64))\n",
    "# model.add(Dropout(.2))\n",
    "# model.add(Dense(5, activation='softmax'))\n",
    "\n",
    "# model.compile(optimizer=Adam(learning_rate=.001), loss='categorical_crossentropy')\n",
    "\n",
    "# model.fit(X_train, y_train, epochs=15, batch_size=32)"
   ]
  },
  {
   "cell_type": "code",
   "execution_count": null,
   "metadata": {},
   "outputs": [],
   "source": [
    "# X_train, X_test, y_train, y_test = train_test_split(embeddings, y_cat)\n",
    "\n",
    "# model = Sequential()\n",
    "\n",
    "# model.add(Dense(64, activation='relu'))\n",
    "# model.add(Dropout(.2))\n",
    "# model.add(Dense(32, activation='relu'))\n",
    "# model.add(Dropout(.2))\n",
    "# model.add(Dense(5, activation='softmax'))\n",
    "\n",
    "# model.compile(optimizer=Adam(learning_rate=.001), loss='categorical_crossentropy')\n",
    "\n",
    "# model.fit(X_train, y_train, epochs=100, batch_size=32)"
   ]
  },
  {
   "cell_type": "markdown",
   "metadata": {},
   "source": [
    "# pytorch"
   ]
  },
  {
   "cell_type": "code",
   "execution_count": null,
   "metadata": {},
   "outputs": [],
   "source": [
    "class TokenizedDataset(Dataset):\n",
    "    def __init__(self, X, y):\n",
    "        self.X = torch.tensor(X, dtype=torch.long)\n",
    "        self.y = torch.tensor(y, dtype=torch.long)\n",
    "        \n",
    "    def __len__(self):\n",
    "        return len(self.X)\n",
    "        \n",
    "    def __getitem__(self, i):\n",
    "        features = self.X[i]\n",
    "        label = self.y[i]\n",
    "        return features, label\n",
    "    \n",
    "class EmbeddedDataset(Dataset):\n",
    "    def __init__(self, embeddings_file, y):\n",
    "        self.X = torch.tensor(np.array(joblib.load('./embeddings.joblib')), dtype=torch.float32)\n",
    "        self.y = torch.tensor(y, dtype=torch.long)\n",
    "        \n",
    "    def __len__(self):\n",
    "        return len(self.X)\n",
    "        \n",
    "    def __getitem__(self, i):\n",
    "        features = self.X[i]\n",
    "        label = self.y[i]\n",
    "        return features, label"
   ]
  },
  {
   "cell_type": "code",
   "execution_count": null,
   "metadata": {},
   "outputs": [],
   "source": [
    "class LSTMModel(nn.Module):\n",
    "    def __init__(self):\n",
    "        super().__init__()\n",
    "        self.embedding_layer = nn.Embedding(5000, 64)\n",
    "        self.lstm1 = nn.LSTM(64, 32, dropout=.5)\n",
    "        self.lstm2 = nn.LSTM(32, 16, dropout=.5)\n",
    "        self.final = nn.Linear(16, 5)\n",
    "        \n",
    "    def forward(self, x):\n",
    "        x = self.embedding_layer(x)\n",
    "        x, _ = self.lstm1(x)\n",
    "        x, _ = self.lstm2(x)\n",
    "        logits = self.final(x)\n",
    "        return logits\n",
    "    \n",
    "# class PreEmbeddedModel(nn.Module):\n",
    "#     def __init__(self):\n",
    "#         super().__init__()\n",
    "#         self.l1 = nn.Linear()\n",
    "#         self.lstm1 = nn.LSTM(64, 32, dropout=.2)\n",
    "#         self.lstm2 = nn.LSTM(32, 32, dropout=.2)\n",
    "#         self.final = nn.Linear(32, 5)\n",
    "        \n",
    "#     def forward(self, x):\n",
    "#         x = self.embedding(x)\n",
    "#         x, _ = self.lstm1(x)\n",
    "#         x, _ = self.lstm2(x)\n",
    "#         logits = self.final(x)\n",
    "#         return logits"
   ]
  },
  {
   "cell_type": "code",
   "execution_count": null,
   "metadata": {},
   "outputs": [],
   "source": [
    "def train(dataloader, model, loss_fn, optimizer):\n",
    "    model.train()\n",
    "    for batch, (X,y) in enumerate(dataloader):\n",
    "        pred = model(X)\n",
    "        loss = loss_fn(pred, y)\n",
    "        loss.backward()\n",
    "        optimizer.step()\n",
    "        optimizer.zero_grad()\n",
    "    return loss\n",
    "\n",
    "def test(dataloader, model, loss_fn):\n",
    "    model.eval()\n",
    "    num_batches = len(dataloader)\n",
    "    test_loss = 0\n",
    "    with torch.no_grad():\n",
    "        for X, y in dataloader:\n",
    "            pred = model(X)\n",
    "            test_loss += loss_fn(pred, y).item()\n",
    "            \n",
    "    return test_loss"
   ]
  },
  {
   "cell_type": "code",
   "execution_count": null,
   "metadata": {},
   "outputs": [],
   "source": [
    "tokenized_data = TokenizedDataset(X_tokenized, y_cat)\n",
    "\n",
    "train_size = int(.8 * len(tokenized_data))\n",
    "test_size = len(tokenized_data) - train_size\n",
    "\n",
    "train_tok, test_tok = random_split(tokenized_data, [train_size, test_size])\n",
    "train_loader = DataLoader(train_tok, batch_size=20, shuffle=True)\n",
    "test_loader = DataLoader(test_tok, batch_size=20, shuffle=True)\n",
    "\n",
    "lstm_model = LSTMModel()\n",
    "\n",
    "loss_fn = nn.CrossEntropyLoss()\n",
    "optimizer = optim.Adam(lstm_model.parameters(), lr=.001)\n",
    "\n",
    "max_epochs = 5\n",
    "for e in range(max_epochs):\n",
    "    train_loss = train(train_loader, lstm_model, loss_fn, optimizer)\n",
    "    test_loss = test(test_loader, lstm_model, loss_fn)\n",
    "    print(f'----- EPOCH: {e} -----')\n",
    "    print(f'Train loss: {train_loss}')\n",
    "    print(f'Test loss: {test_loss}')"
   ]
  },
  {
   "cell_type": "code",
   "execution_count": null,
   "metadata": {},
   "outputs": [],
   "source": []
  },
  {
   "cell_type": "code",
   "execution_count": null,
   "metadata": {},
   "outputs": [],
   "source": []
  }
 ],
 "metadata": {
  "kernelspec": {
   "display_name": "Python 3",
   "language": "python",
   "name": "python3"
  },
  "language_info": {
   "codemirror_mode": {
    "name": "ipython",
    "version": 3
   },
   "file_extension": ".py",
   "mimetype": "text/x-python",
   "name": "python",
   "nbconvert_exporter": "python",
   "pygments_lexer": "ipython3",
   "version": "3.7.6"
  }
 },
 "nbformat": 4,
 "nbformat_minor": 4
}
